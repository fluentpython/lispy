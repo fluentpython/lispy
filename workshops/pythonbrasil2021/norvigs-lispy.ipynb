{
 "cells": [
  {
   "cell_type": "markdown",
   "id": "2383238f",
   "metadata": {},
   "source": [
    "# O *lis.py* de Norvig\n",
    "\n",
    "\n",
    "![Norvig's lispy](lispy.png)"
   ]
  },
  {
   "cell_type": "markdown",
   "id": "a3d74396",
   "metadata": {},
   "source": [
    "Contents:\n",
    "\n",
    "* [Introdução](#Introdução)\n",
    "* [Sintaxe de Scheme](#Sintaxe-de-Scheme)\n",
    "* [Imports e tipos](#Imports-e-tipos)\n",
    "* [O parser](#O-parser)\n",
    "  * [Exercício 0](#Exercício-0)\n",
    "* [Ambiente básico para aritmética](#Ambiente-básico-para-aritmética)\n",
    "* [Uma calculadora](#Uma-calculadora)\n",
    "* [Execução não interativa](#Execução-não-interativa)\n",
    "  * [Exercício 1](#Exercício-1)\n",
    "  * [Exercício 2](#Exercício-2)\n",
    "  * [Exercício 3](#Exercício-3)\n",
    "* [User defined procedures](#User-defined-procedures)\n",
    "* [Um ambiente mais completo](#Um-ambiente-mais-completo)\n",
    "* [`Procedure`: uma clase que representa uma _closure_](#Procedure:-uma-classe-que-representa-uma-closure)\n",
    "* [Avaliador com `lambda`, `if` e `quote`](#Avaliador-com-lambda,-if-e-quote)\n",
    "* [O REPL](#O-REPL)\n",
    "* [Exemplos](#Exemplos)\n",
    "* [Açúcar Sintático](#Açúcar-Sintático)\n",
    "  * [Exercício para casa](#Exercício-para-casa)\n",
    "\n",
    "> **LICENÇAS**:<br>\n",
    "  Código © 2010-2018 Peter Norvig, [MIT License](https://github.com/fluentpython/lispy/blob/main/LICENSE)<br>\n",
    "  Texto © 2022 Luciano Ramalho, [Creative Commons Attribution 4.0 International](https://creativecommons.org/licenses/by/4.0/)\n"
   ]
  },
  {
   "cell_type": "markdown",
   "id": "f931324f",
   "metadata": {},
   "source": [
    "## Introdução\n",
    "\n",
    "[Peter Norvig](https://norvig.com/) da universidade Stanford criou\n",
    "[*lis.py*](https://github.com/norvig/pytudes/blob/main/py/lis.py):\n",
    "um interpretador em 132 linhas de código Python legível,\n",
    "para parte da linguagem Scheme—um dialeto de Lisp.\n",
    "\n",
    "Porque você deveria estudar *lis.py*?\n",
    "Para mim esses foram alguns motivos:\n",
    "\n",
    "* Depois de estudar como funciona um interpretador,\n",
    "entendi mais precisamente como funciona Python e linguagens em geral—interpretadas ou compiladas.\n",
    "\n",
    "* A simplicidade de Scheme é uma aula magna de design de linguagens.\n",
    "\n",
    "* *lis.py* é um lindo exemplo de código Python idiomático.\n",
    "\n",
    "Norvig descreve *lis.py* em um texto intitulado\n",
    "[(How to Write a (Lisp) Interpreter (in Python))](https://norvig.com/lispy.html).\n",
    "Leitura recomendada!\n",
    "\n",
    "Antes de examinar o código do interpretador em Python,\n",
    "vamos ver um pouco de Scheme—caso você nunca tenha visto essa linguagem ou Lisp antes."
   ]
  },
  {
   "cell_type": "markdown",
   "id": "934241b8",
   "metadata": {},
   "source": [
    "## Sintaxe de Scheme\n",
    "\n",
    "Todo código Scheme é formado por expressões.\n",
    "Não existem operadores infixos:\n",
    "todas as expressões usam notação prefixa como\n",
    "`(+ x 13)` em vez de `x + 13`.\n",
    "A mesma notação prefixa é usada para chamadas de funções—ex. `(mdc x 13)`—e\n",
    "instruções especiais—ex. `(define x 13)`, que corresponde à\n",
    "instrução de atribuição em Python: `x = 13`.\n",
    "\n",
    "Essa notação com prefixa com parêntesis é chamada _S-expression_ ou _expressão-S_.\n",
    "É a mesma notação usada em Lisp e outros dialetos, como Clojure.\n",
    "\n",
    "Eis um exemplo simples em Scheme, para calcular o MDC (Máximo Divisor Comum):\n",
    "\n",
    "\n",
    "```lisp\n",
    "(define (resto m n)\n",
    "    (- m (* n (quotient m n))))\n",
    "\n",
    "(define (mdc m n)\n",
    "    (if (= n 0)\n",
    "        m\n",
    "        (mdc n (resto m n))))\n",
    "\n",
    "(display (mdc 18 45))\n",
    "```"
   ]
  },
  {
   "cell_type": "markdown",
   "id": "e5af2988",
   "metadata": {},
   "source": [
    "O mesmo algoritmo em Python:"
   ]
  },
  {
   "cell_type": "code",
   "execution_count": null,
   "id": "bcd58954",
   "metadata": {},
   "outputs": [],
   "source": [
    "def resto(m, n):\n",
    "    return m - (m // n * n)\n",
    "\n",
    "def mdc(m, n):\n",
    "    if n == 0:\n",
    "        return m\n",
    "    else:\n",
    "        return mdc(n, resto(m, n))\n",
    "\n",
    "print(mdc(18, 45))"
   ]
  },
  {
   "cell_type": "markdown",
   "id": "142d1c09",
   "metadata": {},
   "source": [
    "> **DICA**: Clique na célula acima para selecioná-la,\n",
    "então tecle `【CTRL】【ENTER】` para executá-la.\n",
    "O resultado aparecerá abaixo da célula.\n",
    "\n",
    "Assim como temos `%` em Python, Scheme tem a função `modulo`.\n",
    "Implementei `resto` apenas para mostrar duas definições de funções.\n",
    "Em Python é mais eficiente usar um laço `while` do que recursão,\n",
    "mas eu queria que os exemplos ficassem parecidos para\n",
    "ajudar você a entender o código em Scheme.\n",
    "\n",
    "Scheme não tem estruturas de laço como `while` ou `for`.\n",
    "Para repetir instruções usa-se recursão.\n",
    "Note como não há atribuições de variáveis nos exemplos em Scheme e Python acima.\n",
    "Fazer muita recursão e pouca atribuição\n",
    "são duas características típicas de programação em um estilo funcional.\n",
    "\n",
    "O código completo de *lis.py* para Python 3.10 incluindo testes você pode encontrar no diretório\n",
    "[18-with-match/lispy/py3.10/](https://github.com/fluentpython/example-code-2e/tree/master/18-with-match/lispy/py3.10/)\n",
    "do repositório [fluentpython/example-code-2e](https://github.com/fluentpython/example-code-2e).\n",
    "Agora vamos estudar o código de uma versão de *lis.py* para Python 3.7,\n",
    "que é a versão mais recente disponível no serviço [Binder](https://mybinder.org/),\n",
    "sue usaremos nesta oficina.\n",
    "\n",
    "O código abaixo apenas confirma a versão do interpretador que está executando este Jupyter Notebook."
   ]
  },
  {
   "cell_type": "markdown",
   "id": "4965c1d9",
   "metadata": {},
   "source": [
    "> **DICA:** Clique na célula abaixo para selecioná-la e então tecle\n",
    " `【SHIFT】【ENTER】` para executá-la e selecionar a próxima célula.<br>\n",
    "Use `【CTRL】【ENTER】` para executar a célula e mantê-la selecionada.<br>"
   ]
  },
  {
   "cell_type": "markdown",
   "id": "62c31d18",
   "metadata": {},
   "source": [
    "-"
   ]
  },
  {
   "cell_type": "code",
   "execution_count": null,
   "id": "7bcaeadf",
   "metadata": {
    "lines_to_next_cell": 2
   },
   "outputs": [],
   "source": [
    "import sys\n",
    "assert sys.version_info >= (3, 7), f'Esperado Python ≥ 3.7; instalado: {sys.version}'\n",
    "sys.version"
   ]
  },
  {
   "cell_type": "markdown",
   "id": "1ff7ea15",
   "metadata": {
    "lines_to_next_cell": 2,
    "tags": []
   },
   "source": [
    "## Imports e tipos\n",
    "\n",
    "O código escrito pelo Norvig não usa anotações de tipo. Adicionei as anotações e fiz mais algumas pequenas mudanças.\n",
    "\n",
    "Como esse notebook usa Python 3.7, precisamos importar alguns tipos de coleções do módulo `typing`."
   ]
  },
  {
   "cell_type": "code",
   "execution_count": null,
   "id": "ab6b6e3e",
   "metadata": {},
   "outputs": [],
   "source": [
    "################ lis.py: Scheme Interpreter in Python\n",
    "## (c) Peter Norvig, 2010-18; See http://norvig.com/lispy.html\n",
    "## Type hints and minor additions by Luciano Ramalho\n",
    "\n",
    "import math\n",
    "import operator as op\n",
    "from collections import ChainMap\n",
    "from itertools import chain\n",
    "from typing import Any, NoReturn\n",
    "from typing import Union, List, MutableMapping, Optional, Iterator\n",
    "\n",
    "Symbol = str\n",
    "Atom = Union[float, int, Symbol]\n",
    "Expression = Union[Atom, List]\n",
    "\n",
    "Environment = MutableMapping[Symbol, object]"
   ]
  },
  {
   "cell_type": "markdown",
   "id": "fd02c5ce",
   "metadata": {},
   "source": [
    "Os tipos são definidos são:\n",
    "\n",
    "`Symbol`: Apenas um apelido para o tipo `str`.\n",
    "Instâncias de `Symbol` são usadas como identificadores.\n",
    "Em _lis.py_ não há um tipo de dado string com operaçoẽs como\n",
    "fatiamento, particionamento (split), conversão de maiúsculas para minúsculas, etc.\n",
    "\n",
    "`Atom`: Elemento sintático simples: um número ou um `Symbol`.\n",
    "Um átomo é o contrário de uma estrutura composta de diversas partes como uma lista.\n",
    "\n",
    "`Expression`: Programas em Scheme são formados por expressões feitas com átomos e listas, possivelmente aninhadas.\n",
    "\n",
    "> **NOTA**: O outro interpretador escrito por Norvig,\n",
    "[*lispy.py*](https://github.com/fluentpython/example-code-2e/blob/master/18-with-match/lispy/original/lispy.py),\n",
    "suporta string como um tipo de dado, assim como também aceita funcionalidades avançadas como macros de sintaxe,\n",
    "chamadas de cauda eficientes e _continuations_.\n",
    "No entanto, *lispy.py* é quase três vezes mais longo do que *lis.py*, e mais difícil de entender."
   ]
  },
  {
   "cell_type": "markdown",
   "id": "58d36a49",
   "metadata": {},
   "source": [
    "## O parser\n",
    "\n",
    "O parser de Norvig são 36 linhas de código que demonstram o poder de Python\n",
    "aplicado ao tratamento da sintaxes recursivas de expressões-S."
   ]
  },
  {
   "cell_type": "code",
   "execution_count": null,
   "id": "ef6342f0",
   "metadata": {},
   "outputs": [],
   "source": [
    "def parse(program: str) -> Expression:\n",
    "    \"Read a Scheme expression from a string.\"\n",
    "    return read_from_tokens(tokenize(program))\n",
    "\n",
    "def tokenize(s: str) -> List[str]:\n",
    "    \"Convert a string into a list of tokens.\"\n",
    "    return s.replace('(', ' ( ').replace(')', ' ) ').split()\n",
    "\n",
    "def read_from_tokens(tokens: List[str]) -> Expression:\n",
    "    \"Read an expression from a sequence of tokens.\"\n",
    "    if len(tokens) == 0:\n",
    "        raise SyntaxError('unexpected EOF while reading')\n",
    "    token = tokens.pop(0)\n",
    "    if '(' == token:\n",
    "        exp = []\n",
    "        while tokens[0] != ')':\n",
    "            exp.append(read_from_tokens(tokens))\n",
    "        tokens.pop(0)  # discard ')'\n",
    "        return exp\n",
    "    elif ')' == token:\n",
    "        raise SyntaxError('unexpected )')\n",
    "    else:\n",
    "        return parse_atom(token)\n",
    "\n",
    "def parse_atom(token: str) -> Atom:\n",
    "    \"Numbers become numbers; every other token is a symbol.\"\n",
    "    try:\n",
    "        return int(token)\n",
    "    except ValueError:\n",
    "        try:\n",
    "            return float(token)\n",
    "        except ValueError:\n",
    "            return Symbol(token)"
   ]
  },
  {
   "cell_type": "markdown",
   "id": "859f262d",
   "metadata": {},
   "source": [
    "A função principal desse grupo é `parse`, que toma o código-fonte de uma expressão-S como uma `str`\n",
    "e devolve um objeto `Expression`: um `Atom` ou `list` que pode conter mais átomos e listas aninhadas.\n",
    "\n",
    "O primeiro estágio de um parser é a análise léxica:\n",
    "identificar e separar as \"palavras\" da linguagem,\n",
    "conhecidas tecnicamente como _tokens_ ou _itens léxicos_.\n",
    "Isso é feito pela função `tokenize`.\n",
    "\n",
    "Norvig usa um truque esperto em `tokenize`:\n",
    "ele coloca espaços antes e depois de cada parênteses no código-fonte, e depois quebra com `.split()`,\n",
    "resultando em uma lista de tokens com `(` e `)`\n",
    "como itens distintos. Por exemplo, `(f 1)` é transformada em uma lista com quatro itens: `['(', 'f', '1', ')']`.\n",
    "\n",
    "Esse truque funciona porque o dialeto Scheme simplificado de *lis.py*\n",
    "não tem um tipo string, cometários, macros,\n",
    "e outros recursos de Scheme padrão que complicam a análise léxica.\n",
    "Com essa simplificação, sabemos que todo `(` ou `)` é um delimitador de expressão em *lis.py*.\n",
    "(Norvig implementou esses recursos em *lispy.py*.)\n",
    "\n",
    "O resultado da análise léxica alimenta a análise sintática em `read_from_tokens`,\n",
    "que recebe uma lista de itens léxicos e devolve uma `Expression`.\n",
    "\n",
    "A regras de análise sintática (_parsing_) para esse subconjunto do Scheme são simples:\n",
    "\n",
    "1. Um token que se parece com um número é convertido em `float` ou `int`.\n",
    "2. Qualquer outra coisa que não for `(` ou `)` é entendida como `Symbol`—uma `str` a ser usada como identificador.\n",
    "Isso inclui código fonte como `+`, `set!` e `make-counter` que são identificadores válidos em Scheme mas não em Python.\n",
    "3. Expressões dentro de `(` e `)` são recursivamente parseadas como\n",
    "listas contendo atoms ou listas aninhadas que podem conter atoms e mais listas aninhadas.\n",
    "\n",
    "Em uma primeira leitura, vale a pena considerar `read_from_tokens` como uma caixa preta,\n",
    "e se concentrar na função de alto nível `parse`. Veja alguns exemplos com `parse`:\n",
    "\n",
    "> **DICA**: Para executar o código em cada uma das células e selecionar a próxima, use `【SHIFT】【ENTER】`.<br>\n",
    "Se acontecer `NameError: name 'parse' is not defined`,\n",
    "use o comando ***Cell > Run All Above*** do menu para executar as células acima,\n",
    "incluindo aquela onde está a definição da função `parse`."
   ]
  },
  {
   "cell_type": "code",
   "execution_count": null,
   "id": "852f365e",
   "metadata": {},
   "outputs": [],
   "source": [
    "parse('1.5')"
   ]
  },
  {
   "cell_type": "code",
   "execution_count": null,
   "id": "4f1d9aaa",
   "metadata": {},
   "outputs": [],
   "source": [
    "parse('ni!')"
   ]
  },
  {
   "cell_type": "code",
   "execution_count": null,
   "id": "2ff37d9b",
   "metadata": {},
   "outputs": [],
   "source": [
    "parse('''\n",
    "  (define double\n",
    "    (lambda (n)\n",
    "      (* n 2)))\n",
    "''')"
   ]
  },
  {
   "cell_type": "markdown",
   "id": "f78d2ceb",
   "metadata": {},
   "source": [
    "Usando a terminologia de teoria de linguagens de programação\n",
    "o objeto `Expression` produzido por `parse` é uma\n",
    "**AST** (*Abstract Syntax Tree* ou *Árvore Sintática Abstrata*):\n",
    "uma representação conveniente do programa Scheme na forma de\n",
    "objetos Python aninhados formando uma estrutura em de árvore,\n",
    "onde a lista mais externa é o tronco, as listas internas são ramos e os átomos são folhas.\n",
    "\n",
    "Veja a AST do exemplo `(define double (lambda (n) (* n 2)))` como um diagrama em árvore:\n",
    "\n",
    "```\n",
    "                              '*'  'n'   2\n",
    "                        'n'    └────┼────┘\n",
    "                         │          │\n",
    "           'lambda'     [ ]        [ ]\n",
    "               └─────────┼──────────┘\n",
    "                         │\n",
    "'define'   'double'     [ ]\n",
    "    └─────────┼──────────┘\n",
    "              │\n",
    "             [ ]\n",
    "```\n",
    "\n",
    "A árvore acima corresponde à AST `['define', 'double', ['lambda', ['n'], ['*', 'n', 2]]]`.<br>\n",
    "Note que todos os elementos da AST são objetos da linguagem Python.\n",
    "\n",
    "### Exercício 0\n",
    "\n",
    "Substitua as reticências `...` com a AST correspondente à cada expressão-S, para obter o resultado `True`.\n",
    "Para rodar o código na célula, tecle `【CTRL】【ENTER】`."
   ]
  },
  {
   "cell_type": "code",
   "execution_count": null,
   "id": "20250799",
   "metadata": {},
   "outputs": [],
   "source": [
    "parse('9') == ..."
   ]
  },
  {
   "cell_type": "code",
   "execution_count": null,
   "id": "9e46e6e7",
   "metadata": {},
   "outputs": [],
   "source": [
    "parse('x/y') == ..."
   ]
  },
  {
   "cell_type": "code",
   "execution_count": null,
   "id": "2023e938",
   "metadata": {},
   "outputs": [],
   "source": [
    "parse('(+ 3 7)') == ..."
   ]
  },
  {
   "cell_type": "code",
   "execution_count": null,
   "id": "9ba8f045",
   "metadata": {},
   "outputs": [],
   "source": [
    "parse('(* c (/ 9 5))') == ..."
   ]
  },
  {
   "cell_type": "code",
   "execution_count": null,
   "id": "03649242",
   "metadata": {},
   "outputs": [],
   "source": [
    "parse('(+ 32 (* (/ 9 5) c ))') == ..."
   ]
  },
  {
   "cell_type": "markdown",
   "id": "803d01bb",
   "metadata": {},
   "source": [
    "## Ambiente básico para aritmética\n",
    "\n",
    "Qualquer linguagem útil precisa fornecer funções pré-definidas, prontas para usar, como\n",
    "o módulo `__builtins__` de Python.\n",
    "\n",
    "Em *lis.py*, a função `standard_env()` constrói e devolve um `Environment` carregado\n",
    "com funções pré-definidas.\n",
    "Por enquanto usaremos uma versão simplificada, adepois colocaremos mais funções."
   ]
  },
  {
   "cell_type": "code",
   "execution_count": null,
   "id": "75179b8d",
   "metadata": {},
   "outputs": [],
   "source": [
    "def standard_env() -> Environment:\n",
    "    \"An environment for an s-expression calculator.\"\n",
    "    env: Environment = {}\n",
    "    env.update(vars(math))   # sin, cos, sqrt, pi, ...\n",
    "    env.update(\n",
    "        {\n",
    "            '+': op.add,\n",
    "            '-': op.sub,\n",
    "            '*': op.mul,\n",
    "            '/': op.truediv,\n",
    "            'quotient': op.floordiv,\n",
    "            '>': op.gt,\n",
    "            '<': op.lt,\n",
    "            '>=': op.ge,\n",
    "            '<=': op.le,\n",
    "            '=': op.eq,\n",
    "            'abs': abs,\n",
    "            'begin': lambda *x: x[-1],\n",
    "            'eq?': op.is_,\n",
    "            'equal?': op.eq,\n",
    "            'max': max,\n",
    "            'min': min,\n",
    "            'not': op.not_,\n",
    "            'number?': lambda x: isinstance(x, (int, float)),\n",
    "            'procedure?': callable,\n",
    "            'modulo': op.mod,\n",
    "            'round': round,\n",
    "            'symbol?': lambda x: isinstance(x, Symbol),\n",
    "        }\n",
    "    )\n",
    "    return env"
   ]
  },
  {
   "cell_type": "markdown",
   "id": "be85d3b4",
   "metadata": {},
   "source": [
    "O mapeamento `env` é carregado com:\n",
    "\n",
    "* todas as funções do módulo `math` do Python;\n",
    "* operadores selecionados do módulo `op` do Python;\n",
    "* simples mas poderosas funções construídas com `lambda` do Python;\n",
    "* built-ins do Python renomeados, por exemplo `callable` como `procedure?` ou diretamente mapeados como `round`."
   ]
  },
  {
   "cell_type": "markdown",
   "id": "4e2ee176",
   "metadata": {},
   "source": [
    "## Uma calculadora\n",
    "\n",
    "A primeira versão da função `evaluate` trata expressões com funções embutidas e váriavies definidas pela usuária.\n",
    "\n",
    "> **NOTA**: o parser de Norvig é simples e sólido, mas seu avaliador é simples e frágil. Ele omitiu a verificação de erros para manter a lógica simples de ser acompanhada. Nas palavras dele: \"Lispy não tenta detectar, reportar razoavelmente, ou se recuperar de erros. Lispy espera que o programador seja perfeito.\" ([fonte](https://norvig.com/lispy.html))."
   ]
  },
  {
   "cell_type": "code",
   "execution_count": null,
   "id": "89ba6ff7",
   "metadata": {},
   "outputs": [],
   "source": [
    "def evaluate(x: Expression, env: Environment) -> Any:\n",
    "    \"Evaluate an expression in an environment.\"\n",
    "    if isinstance(x, Symbol):                    # variable reference\n",
    "        return env[x]\n",
    "    elif not isinstance(x, list):                # constant literal\n",
    "        return x\n",
    "    elif x[0] == 'define':                       # (define var exp)\n",
    "        _, var, exp = x\n",
    "        env[var] = evaluate(exp, env)\n",
    "    else:                                        # (proc arg...)\n",
    "        proc_exp, *args = x\n",
    "        proc = evaluate(proc_exp, env)\n",
    "        arg_values = [evaluate(exp, env) for exp in args]\n",
    "        return proc(*arg_values)"
   ]
  },
  {
   "cell_type": "markdown",
   "id": "b70250e5",
   "metadata": {},
   "source": [
    "Execute esses exemplos para ver o `evaluate` em ação.\n",
    "\n",
    "Um quadrado curioso:"
   ]
  },
  {
   "cell_type": "code",
   "execution_count": null,
   "id": "7b6e0dda",
   "metadata": {},
   "outputs": [],
   "source": [
    "evaluate(parse('(* 11111 11111)'), standard_env())"
   ]
  },
  {
   "cell_type": "markdown",
   "id": "2467f88d",
   "metadata": {},
   "source": [
    "Se existem 876 candidatas e 123 foram aprovadas, que porcentagem foi aprovada?"
   ]
  },
  {
   "cell_type": "code",
   "execution_count": null,
   "id": "3d8d46b9",
   "metadata": {},
   "outputs": [],
   "source": [
    "evaluate(parse('(* (/ 123 876) 100)'), standard_env())"
   ]
  },
  {
   "cell_type": "markdown",
   "id": "a408bcd9",
   "metadata": {},
   "source": [
    "Agora vamos estudar cada parte do `if/elif/...` em `evaluate`."
   ]
  },
  {
   "cell_type": "markdown",
   "id": "910e736b",
   "metadata": {},
   "source": [
    "### Avaliar símbolo\n",
    "\n",
    "```python\n",
    "    if isinstance(x, Symbol):\n",
    "        return env[x]\n",
    "```\n",
    "\n",
    "Se a expressão é um `Symbol`, então obtenha seu valor no ambiente."
   ]
  },
  {
   "cell_type": "code",
   "execution_count": null,
   "id": "14952d6d",
   "metadata": {},
   "outputs": [],
   "source": [
    "evaluate('pi', standard_env())"
   ]
  },
  {
   "cell_type": "code",
   "execution_count": null,
   "id": "a60f8799",
   "metadata": {},
   "outputs": [],
   "source": [
    "evaluate('+', standard_env())"
   ]
  },
  {
   "cell_type": "markdown",
   "id": "79ee3523",
   "metadata": {},
   "source": [
    "### Avaliar outros átomos\n",
    "\n",
    "```python\n",
    "    elif not isinstance(x, list):\n",
    "        return x\n",
    "```\n",
    "\n",
    "Se a expressão não é `list` e nem `Symbol` (devido à verificação anterior),\n",
    "então assuma que é uma constante literal cujo valor é ela própria.\n",
    "Simplesmente devolva-a."
   ]
  },
  {
   "cell_type": "code",
   "execution_count": null,
   "id": "f9bf5edc",
   "metadata": {},
   "outputs": [],
   "source": [
    "evaluate(1.5, standard_env())"
   ]
  },
  {
   "cell_type": "markdown",
   "id": "52095e1e",
   "metadata": {},
   "source": [
    "### Evaluate `(define var exp)`\n",
    "\n",
    "```python\n",
    "    elif x[0] == 'define':\n",
    "        _, var, exp = x\n",
    "        env[var] = evaluate(exp, env)\n",
    "```\n",
    "\n",
    "Se a expressão é uma lista começando com a palavra reservada `define`,\n",
    "deveria ser seguida por um `Symbol` e uma `Expression`.\n",
    "Recursivamente avalie a expressão no ambiente e\n",
    "armazene o resultado em `env` usando o `Symbol` como chave."
   ]
  },
  {
   "cell_type": "code",
   "execution_count": null,
   "id": "6291a4d1",
   "metadata": {},
   "outputs": [],
   "source": [
    "env = standard_env()\n",
    "evaluate(parse('(define answer (* 7 6))'), env)\n",
    "env['answer']"
   ]
  },
  {
   "cell_type": "markdown",
   "id": "5dfe0701",
   "metadata": {},
   "source": [
    "### Avaliar chamada de função `(proc arg…)`\n",
    "\n",
    "```python\n",
    "    else:\n",
    "        proc_exp, *args = x\n",
    "        proc = evaluate(proc_exp, env)\n",
    "        arg_values = [evaluate(exp, env) for exp in args]\n",
    "        return proc(*arg_values)\n",
    "```\n",
    "\n",
    "Se a expressão é uma `list` que não começa com uma palavra reservada, então:\n",
    "\n",
    "1. Avalie a primeira expressão—seu valor deve ser um procedimento (_procedure_ é sinônimo de função na comunidade Scheme).\n",
    "2. Avalie as expressões restantes (os valores dos argumentos).\n",
    "3. Invoque o procedimento passando os valores dos argumentos."
   ]
  },
  {
   "cell_type": "code",
   "execution_count": null,
   "id": "e8bc39c8",
   "metadata": {},
   "outputs": [],
   "source": [
    "evaluate(['quotient', 11, 4], standard_env())"
   ]
  },
  {
   "cell_type": "code",
   "execution_count": null,
   "id": "0384269f",
   "metadata": {},
   "outputs": [],
   "source": [
    "evaluate(['*', ['/', 123, 876], 100], standard_env())"
   ]
  },
  {
   "cell_type": "markdown",
   "id": "e82929a2",
   "metadata": {},
   "source": [
    "`evaluate()` consegue processar expressões profundamentes aninhadas, mas somente uma expressão no nível mais alto.\n",
    "Para agrupar várias expressões, use a função `(begin...)`.\n",
    "A função `evaluate()` avalia todos os argumentos antes de invocar `begin`, e `begin` simplesmente devolve o valor do último argumento passado.\n",
    "Por exemplo:"
   ]
  },
  {
   "cell_type": "code",
   "execution_count": null,
   "id": "4171b3da",
   "metadata": {},
   "outputs": [],
   "source": [
    "env = standard_env()\n",
    "percent = \"\"\"\n",
    "(begin\n",
    "  (define a 126)\n",
    "  (define b (* 6 50))\n",
    "  (* (/ a b) 100)\n",
    ")\n",
    "\"\"\"\n",
    "evaluate(parse(percent), env)"
   ]
  },
  {
   "cell_type": "markdown",
   "id": "9308be75",
   "metadata": {},
   "source": [
    "Após rodar o código acima, as variáveis `a` e `b` agora estão definidas no ambiente `env`:"
   ]
  },
  {
   "cell_type": "code",
   "execution_count": null,
   "id": "b2924a87",
   "metadata": {},
   "outputs": [],
   "source": [
    "env['a'], env['b']"
   ]
  },
  {
   "cell_type": "markdown",
   "id": "32cb9d63",
   "metadata": {},
   "source": [
    "Para avaliar um programa inteiro, use a função `run()`, descrita a seguir."
   ]
  },
  {
   "cell_type": "markdown",
   "id": "eb3603df",
   "metadata": {},
   "source": [
    "## Execução não-iterativa\n",
    "\n",
    "As funções a seguir aceitam o código fonte de um programa em Scheme\n",
    "como uma string formada por uma sequência de expressões-S, e as executam em ordem."
   ]
  },
  {
   "cell_type": "code",
   "execution_count": null,
   "id": "abd3435f",
   "metadata": {},
   "outputs": [],
   "source": [
    "def run_lines(source: str, env: Optional[Environment] = None) -> Iterator[Any]:\n",
    "    global_env: Environment = ChainMap({}, standard_env())\n",
    "    if env is not None:\n",
    "        global_env.update(env)\n",
    "    tokens = tokenize(source)\n",
    "    while tokens:\n",
    "        exp = read_from_tokens(tokens)\n",
    "        yield evaluate(exp, global_env)\n",
    "\n",
    "\n",
    "def run(source: str, env: Optional[Environment] = None) -> Any:\n",
    "    for result in run_lines(source, env):\n",
    "        pass\n",
    "    return result"
   ]
  },
  {
   "cell_type": "markdown",
   "id": "9c74787f",
   "metadata": {},
   "source": [
    "Com `run()` não precisamos de `(begin …)` para avaliar múltiplas expressões de uma vez só—mas\n",
    "`begin` ainda é útil em outras situações."
   ]
  },
  {
   "cell_type": "code",
   "execution_count": null,
   "id": "568b3a67",
   "metadata": {},
   "outputs": [],
   "source": [
    "porcento = \"\"\"\n",
    "(define a 126)\n",
    "(define b (* 6 50))\n",
    "(* (/ a b) 100)\n",
    "\"\"\"\n",
    "run(porcento)"
   ]
  },
  {
   "cell_type": "markdown",
   "id": "8ac0518c",
   "metadata": {},
   "source": [
    "### Exercício 1\n",
    "\n",
    "Essa é a fórmula para converter temperaturas de Celsius para Fahrenheit:\n",
    "\n",
    "`f = (9 / 5) * c + 32`\n",
    "\n",
    "Eis o código para converter 20°C para °F:"
   ]
  },
  {
   "cell_type": "code",
   "execution_count": null,
   "id": "861ac332",
   "metadata": {},
   "outputs": [],
   "source": [
    "c_to_f = \"\"\"\n",
    "(define c 20)\n",
    "(+ 32 (* c (/ 9 5)))\n",
    "\"\"\"\n",
    "run(c_to_f)"
   ]
  },
  {
   "cell_type": "markdown",
   "id": "11a2a397",
   "metadata": {},
   "source": [
    "A função inversa é:\n",
    "\n",
    "`c = (f − 32) * 5 / 9`\n",
    "\n",
    "No código abaixo, substitua `(+ 1 2)` pela expressão correta para converter 68°F para °C."
   ]
  },
  {
   "cell_type": "code",
   "execution_count": null,
   "id": "ae1dde9e",
   "metadata": {},
   "outputs": [],
   "source": [
    "f_to_c = \"\"\"\n",
    "(define f 68)\n",
    "(+ 1 2)\n",
    "\"\"\"\n",
    "run(f_to_c) == 20"
   ]
  },
  {
   "cell_type": "markdown",
   "id": "a1f6a71d",
   "metadata": {},
   "source": [
    "### Exercicio 2\n",
    "\n",
    "O módulo `math` de Python inclui uma função `factorial`, que é parte do ambiente criado por `standard_env()`:"
   ]
  },
  {
   "cell_type": "code",
   "execution_count": null,
   "id": "5e65adb7",
   "metadata": {},
   "outputs": [],
   "source": [
    "run('(factorial 10)')"
   ]
  },
  {
   "cell_type": "markdown",
   "id": "0f743a53",
   "metadata": {},
   "source": [
    "A linguagem Scheme aceita `!` como um identificador. Sua tarefa é fazer `factorial()` de Python ficar disponível através do símbolo `!` em Scheme.\n",
    "\n",
    "**Passo 2.1** Descomente a expressão abaixo e execute para ver o erro. Veja para a última linha da saída do erro.\n",
    "Qual é o erro? Você entende porque esse é o erro?"
   ]
  },
  {
   "cell_type": "code",
   "execution_count": null,
   "id": "eea4929d",
   "metadata": {},
   "outputs": [],
   "source": [
    "# run('(! 10)') == 3628800"
   ]
  },
  {
   "cell_type": "markdown",
   "id": "cc110285",
   "metadata": {},
   "source": [
    "**Passo 2.2.** Edite a função `standard_env` acima para adicionar uma entrada para `'!'`,\n",
    "mapeando para a função `math.factorial` de Python.\n",
    "\n",
    "**Passo 2.3.** Execute a expressão acima para confirmar que o resultado é `True`."
   ]
  },
  {
   "cell_type": "markdown",
   "id": "ea6072b8",
   "metadata": {},
   "source": [
    "### Exercício 3\n",
    "\n",
    "Em um Scheme padrão, o operador `+` é variádico, ou seja, aceita qualquer quantidade de argumentos.\n",
    "Com 0 argumentos, `(+)` retorna `0`; caso contrário retorna a soma de todos os argumentos.\n",
    "\n",
    "**Step 3.1.** Descomente a expressão abaixo e execute para ver o erro. O erro faz sentido para você?"
   ]
  },
  {
   "cell_type": "code",
   "execution_count": null,
   "id": "51076cd9",
   "metadata": {},
   "outputs": [],
   "source": [
    "# run('(= 10 (+ 1 2 3 4))')"
   ]
  },
  {
   "cell_type": "markdown",
   "id": "d287bb83",
   "metadata": {},
   "source": [
    "**Passo 3.2.** Edite a função `standard_env` acima para reimplementar o `+`,\n",
    "fazendo a expressão acima devolver `True`.\n",
    "\n",
    "> **DICA 3.2.1**: Escondida abaixo está uma versão variável do `sum` do Python.\n",
    "Tente resolver o exercício sem revelar a dica.\n",
    "Para revelar o código, descomente a linha do `print()` e execute a célula.\n"
   ]
  },
  {
   "cell_type": "code",
   "execution_count": null,
   "id": "c96fe97a",
   "metadata": {},
   "outputs": [],
   "source": [
    "from base64 import b64decode\n",
    "blob = (b'ZGVmIHZhcmlhZGljX3N1bSgqYXJncyk6CiAgICByZXR1cm4g'\n",
    "        b'c3VtKGFyZ3MpCgp2YXJpYWRpY19zdW0oMSwgMiwgMywgNCk=')\n",
    "# print(b64decode(blob).decode('utf8'))"
   ]
  },
  {
   "cell_type": "markdown",
   "id": "bb01d1f0",
   "metadata": {},
   "source": [
    "> **DICA 3.2.2**: A seguir, a mesma função em uma única linha do Python.\n",
    "Tente resolver o exercício sem revelar a dica.\n",
    "Para revelar, descomente a linha do `print()` e execute a célula."
   ]
  },
  {
   "cell_type": "code",
   "execution_count": null,
   "id": "dcbcb06a",
   "metadata": {},
   "outputs": [],
   "source": [
    "blob = b'ZiA9IGxhbWJkYSAqYXJnczogc3VtKGFyZ3MpCmYoMSwgMiwgMywgNCk='\n",
    "# print(b64decode(blob).decode('utf8'))"
   ]
  },
  {
   "cell_type": "markdown",
   "id": "a72b9e23",
   "metadata": {},
   "source": [
    "## Um ambiente mais completo"
   ]
  },
  {
   "cell_type": "markdown",
   "id": "02803ca7",
   "metadata": {},
   "source": [
    "Esta nova versão de `standard_env()` define funções para trabalhar com listas."
   ]
  },
  {
   "cell_type": "code",
   "execution_count": null,
   "id": "8b0d6d1a",
   "metadata": {
    "lines_to_next_cell": 1
   },
   "outputs": [],
   "source": [
    "def standard_env() -> Environment:\n",
    "    \"An environment with some Scheme standard procedures.\"\n",
    "    env: Environment = {}\n",
    "    env.update(vars(math))   # sin, cos, sqrt, pi, ...\n",
    "    env.update(\n",
    "        {\n",
    "            '+': op.add,\n",
    "            '-': op.sub,\n",
    "            '*': op.mul,\n",
    "            '/': op.truediv,\n",
    "            'quotient': op.floordiv,\n",
    "            '>': op.gt,\n",
    "            '<': op.lt,\n",
    "            '>=': op.ge,\n",
    "            '<=': op.le,\n",
    "            '=': op.eq,\n",
    "            'abs': abs,\n",
    "            'append': lambda *args: list(chain(*args)),\n",
    "            'apply': lambda proc, args: proc(*args),\n",
    "            'begin': lambda *x: x[-1],\n",
    "            'car': lambda x: x[0],\n",
    "            'cdr': lambda x: x[1:],\n",
    "            'cons': lambda x, y: [x] + y,\n",
    "            'display': lambda x: print(lispstr(x), end=''),\n",
    "            'newline': lambda: print(),\n",
    "            'eq?': op.is_,\n",
    "            'equal?': op.eq,\n",
    "            'filter': lambda *args: list(filter(*args)),\n",
    "            'length': len,\n",
    "            'list': lambda *x: list(x),\n",
    "            'list?': lambda x: isinstance(x, list),\n",
    "            'map': lambda *args: list(map(*args)),\n",
    "            'max': max,\n",
    "            'min': min,\n",
    "            'not': op.not_,\n",
    "            'null?': lambda x: x == [],\n",
    "            'number?': lambda x: isinstance(x, (int, float)),\n",
    "            'procedure?': callable,\n",
    "            'round': round,\n",
    "            'symbol?': lambda x: isinstance(x, Symbol),\n",
    "        }\n",
    "    )\n",
    "    return env"
   ]
  },
  {
   "cell_type": "markdown",
   "id": "85fe26ac",
   "metadata": {},
   "source": [
    "A função `(display …)` exibe resultados, mas não emite uma quebra de linha.\n",
    "Para isso é preciso chamar `(newline)` (assim mesmo, sem argumentos).\n",
    "\n",
    "A chamada `(display x)` invoca `lispstr(x)`, que faz o inverso de `parse()`.\n",
    "Dado um objeto Python que representa uma expressão,\n",
    "`lispstr` devolve o código-fonte em Scheme para essa expressão."
   ]
  },
  {
   "cell_type": "code",
   "execution_count": null,
   "id": "aa6e1216",
   "metadata": {
    "lines_to_next_cell": 1
   },
   "outputs": [],
   "source": [
    "def lispstr(exp: Expression) -> str:\n",
    "    \"Convert a Python object back into a Lisp-readable string.\"\n",
    "    if isinstance(exp, list):\n",
    "        return '(' + ' '.join(map(lispstr, exp)) + ')'\n",
    "    else:\n",
    "        return str(exp)"
   ]
  },
  {
   "cell_type": "markdown",
   "id": "6485fb66",
   "metadata": {},
   "source": [
    "Por exemplo:"
   ]
  },
  {
   "cell_type": "code",
   "execution_count": null,
   "id": "d8252022",
   "metadata": {},
   "outputs": [],
   "source": [
    "lispstr(['+', 32, ['*', ['/', 9, 5], 'c']])"
   ]
  },
  {
   "cell_type": "markdown",
   "id": "af6e1522",
   "metadata": {
    "lines_to_next_cell": 2
   },
   "source": [
    "## `Procedure`: uma classe que representa uma _closure_\n",
    "\n",
    "A próxima melhoria do `evaluate()` será incluir `(lambda …)` para permitir que\n",
    "usuários definam funções, ou _procedimentos_ no jargão de Scheme.\n",
    "Para implementar `lambda`, precisamos de uma classe que represente um procedimento."
   ]
  },
  {
   "cell_type": "code",
   "execution_count": null,
   "id": "757148a8",
   "metadata": {},
   "outputs": [],
   "source": [
    "class Procedure:\n",
    "    \"\"\"A user-defined Scheme procedure.\"\"\"\n",
    "\n",
    "    def __init__(self, parms: List[Symbol], body: Expression, env: Environment) -> None:\n",
    "        self.parms = parms\n",
    "        self.body = body\n",
    "        self.env = env\n",
    "\n",
    "    def __call__(self, *args: Expression) -> Any:\n",
    "        local_env = dict(zip(self.parms, args))\n",
    "        env: Environment = ChainMap(local_env, self.env)\n",
    "        return evaluate(self.body, env)"
   ]
  },
  {
   "cell_type": "markdown",
   "id": "c47560d4",
   "metadata": {},
   "source": [
    "A classe `Procedure` poderia muito bem ser nomeada `Closure`,\n",
    "porque é isso o que ela representa:<br>\n",
    "uma definição de função junto com um ambiente capturado quando a função é definida.\n",
    "\n",
    "Os parâmetros obrigatórios para criar uma `Procedure` são:\n",
    "\n",
    "`parms`: uma lista de símbolos que representam os nomes dos parâmetros da função.\n",
    "A lista pode estar vazia.\n",
    "\n",
    "`body`: o corpo da função como uma expressão que será interpretada quando a função for chamada.\n",
    "\n",
    "`env`: o ambiente onde a função é criada. Isso é o que torna o procedimento uma\n",
    "[*closure*](https://en.wikipedia.org/wiki/Closure_(computer_programming)) ou\n",
    "[*clausura*](https://pt.wikipedia.org/wiki/Clausura_(ci%C3%AAncia_da_computa%C3%A7%C3%A3o)) (o termo em PT não é muito usado, mas o [artigo na Wikipédia](https://pt.wikipedia.org/wiki/Clausura_(ci%C3%AAncia_da_computa%C3%A7%C3%A3o)) é útil).\n",
    "\n",
    "O método `__init__` apenas guarda os argumentos recebidos. Nenhum deles é avaliado quando a função é definida.\n",
    "\n",
    "O ambiente `self.env` é usado quando a função é chamada para fornecer os valores de\n",
    "[variáveis não-locais](https://en.wikipedia.org/wiki/Non-local_variable):<br>\n",
    "variáveis que aparecem no corpo da função mas que não são parâmetros ou variáveis locais.\n",
    "\n",
    "Vamos criar uma `Procedure` \"na mão\" para ver como funciona:"
   ]
  },
  {
   "cell_type": "code",
   "execution_count": null,
   "id": "4c229137",
   "metadata": {},
   "outputs": [],
   "source": [
    "dobro = Procedure(['n'], ['*', 'n', 2], standard_env())\n",
    "dobro(4)"
   ]
  },
  {
   "cell_type": "markdown",
   "id": "c8566fa8",
   "metadata": {},
   "source": [
    "## Avaliador com `lambda`, `if` e `quote`\n",
    "\n",
    "Para transformar a calculadora em um subconjunto digno da linguagem Scheme,\n",
    "precisamos permitir funções definidas pelo usuário,\n",
    "condicionais e a instrução `(quote …)` para lidar com expressões\n",
    "como dados ao invés de interpretá-las.\n"
   ]
  },
  {
   "cell_type": "code",
   "execution_count": null,
   "id": "98729653",
   "metadata": {},
   "outputs": [],
   "source": [
    "def evaluate(x: Expression, env: Environment) -> Any:\n",
    "    \"\"\"Evaluate an expression in an environment.\"\"\"\n",
    "    if isinstance(x, str):                       # variable reference\n",
    "        return env[x]\n",
    "    elif not isinstance(x, list):                # constant literal\n",
    "        return x\n",
    "    elif x[0] == 'define':                       # (define var exp)\n",
    "        _, var, exp = x\n",
    "        env[var] = evaluate(exp, env)\n",
    "    elif x[0] == 'lambda':                       # (lambda (var...) body)\n",
    "        _, parms, body = x\n",
    "        return Procedure(parms, body, env)\n",
    "    elif x[0] == 'quote':                        # (quote exp)\n",
    "        _, exp = x\n",
    "        return exp\n",
    "    elif x[0] == 'if':                           # (if test consequence alternative)\n",
    "        _, test, consequence, alternative = x\n",
    "        if evaluate(test, env):\n",
    "            return evaluate(consequence, env)\n",
    "        else:\n",
    "            return evaluate(alternative, env)\n",
    "    else:                                        # (proc arg...)\n",
    "        proc_exp, *args = x\n",
    "        proc = evaluate(proc_exp, env)\n",
    "        arg_values = [evaluate(exp, env) for exp in args]\n",
    "        return proc(*arg_values)"
   ]
  },
  {
   "cell_type": "markdown",
   "id": "e0749631",
   "metadata": {},
   "source": [
    "### Avaliar `(lambda (var…) body)`\n",
    "\n",
    "```python\n",
    "    elif x[0] == 'lambda':\n",
    "        _, parms, body = x\n",
    "        return Procedure(parms, body, env)\n",
    "```\n",
    "\n",
    "Se a expressão for uma `list` onde o primeiro elemento é a\n",
    "palavra reservada `lambda`, seguida por uma lista de zero ou mais símbolos,\n",
    "e finalmente um `body` (corpo) formado por uma única expressão, então criamos e devolvemos uma `Procedure`.\n",
    "\n",
    "Exemplo:"
   ]
  },
  {
   "cell_type": "code",
   "execution_count": null,
   "id": "14ebcf80",
   "metadata": {},
   "outputs": [],
   "source": [
    "porcentagem = run('(lambda (a b) (* (/ a b) 100))')\n",
    "porcentagem(15, 20)"
   ]
  },
  {
   "cell_type": "markdown",
   "id": "44d980f0",
   "metadata": {},
   "source": [
    "O resultado de `(lambda …)` é uma função anônima,\n",
    "ela não é salva no ambiente. Para criar uma função nomeada,\n",
    "use `lambda` com `define`.\n",
    "\n",
    "> **NOTA**: Essa versão de *lis.py* só aceita uma única expressão como corpo de uma função.\n",
    "  Use `(begin …)` para criar um `body` várias expressões. O resultado da função será o valor da última expressão."
   ]
  },
  {
   "cell_type": "markdown",
   "id": "490db525",
   "metadata": {},
   "source": [
    "### Avaliar `(quote exp)`\n",
    "\n",
    "```python\n",
    "    elif x[0] == 'quote':\n",
    "        _, exp = x\n",
    "        return exp\n",
    "```\n",
    "\n",
    "Se a expressão for uma `list` onde o primeiro elemento\n",
    "é a palavra reservada `quote` seguida por uma única expressão,\n",
    "devolva a expressão sem interpretá-la.\n",
    "\n",
    "Exemplos:"
   ]
  },
  {
   "cell_type": "code",
   "execution_count": null,
   "id": "ef7484f0",
   "metadata": {},
   "outputs": [],
   "source": [
    "run('(quote no-such-name)')  # símbolo não definido, iria causar um erro se fosse interpretado"
   ]
  },
  {
   "cell_type": "code",
   "execution_count": null,
   "id": "0e0dae34",
   "metadata": {},
   "outputs": [],
   "source": [
    "run('(quote (99 bottles of beer))')  # 99 não é o nome de uma função ou palavra reservada"
   ]
  },
  {
   "cell_type": "code",
   "execution_count": null,
   "id": "eced5990",
   "metadata": {},
   "outputs": [],
   "source": [
    "run('(quote (/ 10 0))')  # se interpretada, a expressão causaria uma exceção de divisão por zero"
   ]
  },
  {
   "cell_type": "markdown",
   "id": "34d8410b",
   "metadata": {},
   "source": [
    "### Avaliar `(if test consequence alternative)`\n",
    "\n",
    "```python\n",
    "    elif x[0] == 'if':\n",
    "        _, test, consequence, alternative = x\n",
    "        if evaluate(test, env):\n",
    "            return evaluate(consequence, env)\n",
    "        else:\n",
    "            return evaluate(alternative, env)\n",
    "```\n",
    "\n",
    "Se a expressão é uma `list` onde o primeiro elemento é a palavra reservada `if`,\n",
    "seguida por exatamente três expressões, avaliamos a expressão `test`.\n",
    "Se o resultado for `True` avaliamos `consequence`; caso contrário avaliamos `alternative`.\n",
    "\n",
    "Exemplos:"
   ]
  },
  {
   "cell_type": "code",
   "execution_count": null,
   "id": "e38ffeba",
   "metadata": {},
   "outputs": [],
   "source": [
    "run('(if (= 3 3) 1 0)')"
   ]
  },
  {
   "cell_type": "code",
   "execution_count": null,
   "id": "ca2d9234",
   "metadata": {},
   "outputs": [],
   "source": [
    "run('(if (= 3 30) 1 0)')"
   ]
  },
  {
   "cell_type": "code",
   "execution_count": null,
   "id": "254f497d",
   "metadata": {},
   "outputs": [],
   "source": [
    "source = '''\n",
    "(define avaliar\n",
    "    (lambda (nota)\n",
    "        (if (>= nota 5)\n",
    "            (quote PASSOU)\n",
    "            (quote NÃO-PASSOU))))\n",
    "(avaliar 7)\n",
    "'''\n",
    "run(source)"
   ]
  },
  {
   "cell_type": "markdown",
   "id": "e3e004b5",
   "metadata": {},
   "source": [
    "## O REPL\n",
    "\n",
    "O REPL (Read-Eval-Print-Loop) de Norvig é fácil de entender porém não é\n",
    "muito amigavél. Se nenhum argumento é passado na linha de comando para o _lisp.py_,\n",
    "a função `repl()` é invocada pela função `main()` definida no final do módulo.\n",
    "Um prompt `lis.py>` aparece, e nele devemos digitar expressões corretas e completas;\n",
    "se esquecermos de fechar um paretenses o _lis.py_ irá quebrar.\n",
    "\n",
    "> **NOTA**: Quando estudei os scripts _lis.py_ e _lispy.py_ feitos por Norvig,\n",
    "  criei um fork chamado [`mylis`](https://github.com/fluentpython/lispy/blob/main/mylis)\n",
    "  com algumas funcionalidades a mais,\n",
    "  como um REPL que aceita expressões parciais que podem ser continuadas nas próximas linhas,\n",
    "  semelhante ao REPL de Python que sabe que não terminamos e nos apresenta um segundo prompt\n",
    "  `...` até que entremos um expressão ou instrução completa que possa ser interpretada.\n",
    "  `mylis` também consegue tratar alguns erros um pouco melhor, porém ainda é fácil de quebrar."
   ]
  },
  {
   "cell_type": "code",
   "execution_count": null,
   "id": "d149fc37",
   "metadata": {},
   "outputs": [],
   "source": [
    "def repl(prompt: str = 'lis.py> ') -> NoReturn:\n",
    "    \"A prompt-read-evaluate-print loop.\"\n",
    "    global_env: Environment = ChainMap({}, standard_env())\n",
    "    while True:\n",
    "        val = evaluate(parse(input(prompt)), global_env)\n",
    "        if val is not None:\n",
    "            print(lispstr(val))"
   ]
  },
  {
   "cell_type": "markdown",
   "id": "ddc7fc39",
   "metadata": {},
   "source": [
    "A função `repl()` chama a função `standard_env()` para instalar funções essenciais no ambiente global,\n",
    "então entra em um loop infinito lendo e fazendo o parse de cada linha digitada pelo usuário,\n",
    "interpreta cada linha no ambiente global, e mostra o resultado—exceto quando é `None`.\n",
    "A variável `global_env` pode ser modificada pela função `evaluate()`."
   ]
  },
  {
   "cell_type": "markdown",
   "id": "3f73ba57",
   "metadata": {},
   "source": [
    "## Exemplos\n",
    "\n",
    "### Fatorial recursivo simples"
   ]
  },
  {
   "cell_type": "code",
   "execution_count": null,
   "id": "c53ca50f",
   "metadata": {},
   "outputs": [],
   "source": [
    "fatorial_scm = '''\n",
    "(define ! (lambda (n)\n",
    "    (if (< n 2)\n",
    "        1\n",
    "        (* n (! (- n 1)))\n",
    ")))\n",
    "\n",
    "(! 5)\n",
    "'''\n",
    "run(fatorial_scm)"
   ]
  },
  {
   "cell_type": "markdown",
   "id": "c0ce2f6b",
   "metadata": {},
   "source": [
    "### Fatorial com recursão de cauda"
   ]
  },
  {
   "cell_type": "code",
   "execution_count": null,
   "id": "e1ea229b",
   "metadata": {},
   "outputs": [],
   "source": [
    "fatorial_scm = '''\n",
    "(define ! (lambda (n)\n",
    "    (fatorial-iter n 1)))\n",
    "\n",
    "(define fatorial-iter\n",
    "    (lambda (n produto)\n",
    "        (if (= n 1)\n",
    "            produto\n",
    "            (fatorial-iter (- n 1) (* n produto))\n",
    "        )\n",
    "    )\n",
    ")\n",
    "\n",
    "(! 5)\n",
    "'''\n",
    "run(fatorial_scm)"
   ]
  },
  {
   "cell_type": "markdown",
   "id": "ca329e21",
   "metadata": {},
   "source": [
    "A função `fatorial-iter` faz recursão de cauda:\n",
    "a chamada recursiva é devolvida como resultado diretamente.\n",
    "Isso é denominado uma chamada de cauda ou [*tail call*](https://en.wikipedia.org/wiki/Tail_call).\n",
    "\n",
    "Em contraste, o [Fatorial recursivo simples](#Fatorial-recursivo-simples)\n",
    "não é um exemplo de recursão de cauda:\n",
    "o resultado da chamada recursiva é multiplicado por `n` antes de ser devolvido.\n",
    "\n",
    "O sufixo `-iter` é comumente usado em Scheme para funções que fazem iteração por recursão de cauda.\n",
    "É comum que tais funções utilizem um parâmetro acumulador,\n",
    "que vai gradualmente acumulando resultados parciais.\n",
    "Em `fatorial-iter`, o parâmetro `produto` é o acumulador.\n",
    "\n",
    "> **NOTA**: *lis.py* não implementa chamadas de cauda eficientes, um recurso conhecido em inglês como _proper tail call_ (PTC) ou _tail call optimization_ (TCO), conforme o autor.\n",
    "Portanto, não há vantagem em fazer recursão de cauda. Porém\n",
    "[*lispy.py*](https://github.com/norvig/pytudes/blob/main/py/lispy.py) e\n",
    "[`mylis_2`](https://github.com/fluentpython/lispy/blob/main/mylis/mylis_2/lis.py)\n",
    "implementam PTC, o que significa que nesses interpretadores uma recursão de cauda não faz a pilha crescer a cada iteração."
   ]
  },
  {
   "cell_type": "markdown",
   "id": "212e1ae4",
   "metadata": {},
   "source": [
    "### Quicksort\n",
    "\n",
    "O [algoritmo recursivo de ordenação](https://pt.wikipedia.org/wiki/Quicksort) eficiente e elegante inventado por Tony Hoare.\n",
    "\n",
    "Observe na última linha o uso de `quote` para criar uma lista de números, e na função `quicksort` o uso de funções de tratamento de listas: `null?`, `car`, `cdr`, `append`, `list`, e `filter`."
   ]
  },
  {
   "cell_type": "code",
   "execution_count": null,
   "id": "602ea9b2",
   "metadata": {},
   "outputs": [],
   "source": [
    "quicksort_scm = \"\"\"\n",
    "(define quicksort (lambda (lst)\n",
    "    (if (null? lst)\n",
    "        lst\n",
    "        (begin\n",
    "            (define pivô (car lst))\n",
    "            (define resto (cdr lst))\n",
    "            (append\n",
    "                (quicksort\n",
    "                    (filter (lambda (x) (< x pivô)) resto))\n",
    "                (list pivô)\n",
    "                (quicksort\n",
    "                    (filter (lambda (x) (>= x pivô)) resto)))\n",
    "))))\n",
    "\n",
    "(quicksort (quote (2 1 6 3 4 0 8 9 7 5)))\n",
    "\"\"\"\n",
    "run(quicksort_scm)"
   ]
  },
  {
   "cell_type": "markdown",
   "id": "07bb63b6",
   "metadata": {},
   "source": [
    "> **NOTA**: o código acima funciona em *lis.py*, mas não em Scheme padrão. A forma `define` não pode ser usada naquele contexto em Scheme padrão; em vez dela, usaríamos a forma `let`—que não existe em *lis.py*."
   ]
  },
  {
   "cell_type": "markdown",
   "id": "73e93168",
   "metadata": {},
   "source": [
    "### Raiz quadrada por aproximação\n",
    "\n",
    "O [método bibilônio](https://en.wikipedia.org/wiki/Methods_of_computing_square_roots#Babylonian_method),\n",
    "um algoritmo para calcular raiz quadrada usado desde a antiguidade. É um caso especial do [Método de Newton–Raphson](https://pt.wikipedia.org/wiki/M%C3%A9todo_de_Newton%E2%80%93Raphson) para cálculo de raízes de funções.\n",
    "Este código foi adaptado de um [exemplo](https://mitpress.mit.edu/sites/default/files/sicp/full-text/sicp/book/node12.html) do livro *Structure and Interpretation of Computer Programs*."
   ]
  },
  {
   "cell_type": "code",
   "execution_count": null,
   "id": "a0ca5847",
   "metadata": {},
   "outputs": [],
   "source": [
    "raiz2_scm = \"\"\"\n",
    "(define raiz2 (lambda (x)\n",
    "    (raiz2-iter 1.0 x)))\n",
    "\n",
    "(define raiz2-iter (lambda (chute x)\n",
    "    (if (próximo? chute x)\n",
    "        chute\n",
    "        (raiz2-iter (melhorar chute x) x))))\n",
    "\n",
    "(define próximo? (lambda (chute x)\n",
    "    (< (abs (- (* chute chute) x)) 0.001)))\n",
    "\n",
    "(define melhorar (lambda (chute x)\n",
    "    (média chute (/ x chute))))\n",
    "\n",
    "(define média (lambda (x y)\n",
    "    (/ (+ x y) 2)))\n",
    "\n",
    "(raiz2 12345654321)\n",
    "\"\"\"\n",
    "run(raiz2_scm)"
   ]
  },
  {
   "cell_type": "markdown",
   "id": "a2948e8a",
   "metadata": {},
   "source": [
    "### Máximo divisor comum\n",
    "\n",
    "O [algoritmo de Euclides](https://pt.wikipedia.org/wiki/Algoritmo_de_Euclides)."
   ]
  },
  {
   "cell_type": "code",
   "execution_count": null,
   "id": "91003ac2",
   "metadata": {},
   "outputs": [],
   "source": [
    "mdc_scm = '''\n",
    "(define resto (lambda (m n)\n",
    "    (- m (* n (quotient m n)))))\n",
    "\n",
    "(define mdc (lambda (m n)\n",
    "    (if (= n 0)\n",
    "        m\n",
    "        (mdc n (resto m n)))))\n",
    "\n",
    "(mdc 18 45)\n",
    "'''\n",
    "run(mdc_scm)"
   ]
  },
  {
   "cell_type": "markdown",
   "id": "518a14c4",
   "metadata": {},
   "source": [
    "> **NOTA**: Este exemplo usa `lambda` dentro de `define` em vez da sintaxe abreviada com `define`\n",
    "ilustrada na função `mdc` em [Sintaxe de Scheme](#Sintaxe-de-Scheme). Leia mais a seguir."
   ]
  },
  {
   "cell_type": "markdown",
   "id": "e3feac73",
   "metadata": {},
   "source": [
    "## Açúcar Sintático\n",
    "\n",
    "Por padrão Scheme tem uma sintaxe alternativa para `define` que permite definir funções nomeadas\n",
    "sem usar a palavra reservada `lambda`.\n",
    "\n",
    "A sintaxe é: `(define (name params…) body…)`, onde:\n",
    "\n",
    "`name`: é o nome da função a ser definida (um `Symbol`);\n",
    "\n",
    "`params…`: zero ou mais símbolos declarando o nome dos parâmetros;\n",
    "\n",
    "`body…`: uma ou mais expressões para serem usadas como o corpo da função.\n",
    "\n",
    "Isso é um exemplo de _açúcar sintático_:\n",
    "uma sintaxe nova que não adiciona nenhuma funcionalidade a linguagem,\n",
    "mas facilita o uso dela, tornando-a mais conveniente.\n",
    "\n",
    "A versão de `mdc` apresentada na seção [Sintaxe de Scheme](#Sintaxe-de-Scheme)\n",
    "usa esse atalho sintático.\n",
    "\n",
    "### Exercício para casa\n",
    "\n",
    "Valide seu entendimento do *lis.py* modificando a função `evaluate()`\n",
    "para permitir o atalho sintático `define` para funções nomeadas.<br>\n",
    "Teste sua solução rodando o exemplo abaixo. O resultado deve ser `9`.\n"
   ]
  },
  {
   "cell_type": "code",
   "execution_count": null,
   "id": "ba94d5ce",
   "metadata": {},
   "outputs": [],
   "source": [
    "mdc2_scm = '''\n",
    "(define (resto m n)\n",
    "    (- m (* n (quotient m n))))\n",
    "\n",
    "(define (mdc m n)\n",
    "    (if (= n 0)\n",
    "        m\n",
    "        (mdc n (resto m n))))\n",
    "\n",
    "(mdc 18 45)\n",
    "'''\n",
    "# run(mdc2_scm)"
   ]
  },
  {
   "cell_type": "code",
   "execution_count": null,
   "id": "94da33c2",
   "metadata": {},
   "outputs": [],
   "source": []
  }
 ],
 "metadata": {
  "jupytext": {
   "encoding": "# -*- coding: utf-8 -*-"
  },
  "kernelspec": {
   "display_name": "Python 3 (ipykernel)",
   "language": "python",
   "name": "python3"
  }
 },
 "nbformat": 4,
 "nbformat_minor": 5
}
